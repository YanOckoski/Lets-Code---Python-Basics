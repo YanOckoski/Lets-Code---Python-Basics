{
 "cells": [
  {
   "cell_type": "code",
   "execution_count": null,
   "id": "7403d930",
   "metadata": {},
   "outputs": [],
   "source": [
    "valor_monetario = float(input('Digite um valor monetário: '))\n",
    "\n",
    "valor = valor_monetario - (valor_monetario*0.15)\n",
    "\n",
    "print(f'O novo valor é {valor}')"
   ]
  },
  {
   "cell_type": "code",
   "execution_count": null,
   "id": "70b5a8d9",
   "metadata": {},
   "outputs": [],
   "source": []
  }
 ],
 "metadata": {
  "kernelspec": {
   "display_name": "Python 3 (ipykernel)",
   "language": "python",
   "name": "python3"
  },
  "language_info": {
   "codemirror_mode": {
    "name": "ipython",
    "version": 3
   },
   "file_extension": ".py",
   "mimetype": "text/x-python",
   "name": "python",
   "nbconvert_exporter": "python",
   "pygments_lexer": "ipython3",
   "version": "3.10.7"
  }
 },
 "nbformat": 4,
 "nbformat_minor": 5
}
