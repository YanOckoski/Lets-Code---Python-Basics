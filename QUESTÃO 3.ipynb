{
 "cells": [
  {
   "cell_type": "code",
   "execution_count": 2,
   "id": "42e8232f",
   "metadata": {},
   "outputs": [
    {
     "name": "stdout",
     "output_type": "stream",
     "text": [
      "Responda todas as perguntas apenas com sim ou não.\n",
      "Mora perto da vítima? SIM\n",
      "Já trabalhou com a vítima? SIM\n",
      "Telefonou para a vítima? SIM\n",
      "Esteve no local do crime? SIM\n",
      "Devia para a vítima? SIM\n",
      "Assassino\n"
     ]
    }
   ],
   "source": [
    "from unidecode import unidecode\n",
    "perguntas = ['Mora perto da vítima? ','Já trabalhou com a vítima? ',\n",
    "            'Telefonou para a vítima? ','Esteve no local do crime? ',\n",
    "            'Devia para a vítima? ']\n",
    "opcoes= {\n",
    "    1: 'Liberado',\n",
    "    2: 'Suspeito',\n",
    "    3: 'Cumplice',\n",
    "    4: 'Cumplice',\n",
    "    5: 'Assassino'\n",
    "}\n",
    "contagem = 0\n",
    "possiveis = ['SIM', 'NAO']\n",
    "print('Responda todas as perguntas apenas com sim ou não.')\n",
    "\n",
    "for pergunta in perguntas:\n",
    "    resposta = unidecode(input(pergunta))\n",
    "    while resposta.upper() not in possiveis:\n",
    "        resposta = input(f'Resposta inválida. {pergunta}')\n",
    "    if resposta.upper() == 'SIM':\n",
    "        contagem +=1\n",
    "    else:\n",
    "        pass\n",
    "\n",
    "print(opcoes[contagem])"
   ]
  },
  {
   "cell_type": "code",
   "execution_count": null,
   "id": "b309ee04",
   "metadata": {},
   "outputs": [],
   "source": []
  }
 ],
 "metadata": {
  "kernelspec": {
   "display_name": "Python 3 (ipykernel)",
   "language": "python",
   "name": "python3"
  },
  "language_info": {
   "codemirror_mode": {
    "name": "ipython",
    "version": 3
   },
   "file_extension": ".py",
   "mimetype": "text/x-python",
   "name": "python",
   "nbconvert_exporter": "python",
   "pygments_lexer": "ipython3",
   "version": "3.10.7"
  }
 },
 "nbformat": 4,
 "nbformat_minor": 5
}
