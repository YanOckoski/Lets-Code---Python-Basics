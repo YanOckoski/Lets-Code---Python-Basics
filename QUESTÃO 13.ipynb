{
 "cells": [
  {
   "cell_type": "code",
   "execution_count": null,
   "id": "b04affdf",
   "metadata": {},
   "outputs": [],
   "source": [
    "import requests as r \n",
    "\n",
    "url = 'https://swapi.dev/api/people/4/'\n",
    "resp = r.get(url)\n",
    "data = resp.json()\n",
    "dados = ['name','height','mass','birth_year']\n",
    "for valor in dados:\n",
    "    print(data[valor])"
   ]
  }
 ],
 "metadata": {
  "kernelspec": {
   "display_name": "Python 3 (ipykernel)",
   "language": "python",
   "name": "python3"
  },
  "language_info": {
   "codemirror_mode": {
    "name": "ipython",
    "version": 3
   },
   "file_extension": ".py",
   "mimetype": "text/x-python",
   "name": "python",
   "nbconvert_exporter": "python",
   "pygments_lexer": "ipython3",
   "version": "3.10.7"
  }
 },
 "nbformat": 4,
 "nbformat_minor": 5
}
