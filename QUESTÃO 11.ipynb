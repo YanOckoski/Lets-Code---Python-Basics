{
 "cells": [
  {
   "cell_type": "code",
   "execution_count": null,
   "id": "17d110e6",
   "metadata": {},
   "outputs": [],
   "source": [
    "with open('arquivos/alunos.csv', 'r', encoding='utf-8') as arquivo_csv:\n",
    "    leitor = csv.reader(arquivo_csv)\n",
    "    with open('arquivos/alunos_copia.csv', 'w', encoding='utf-8', newline='') as arquivo_copia:\n",
    "        escritor = csv.writer(arquivo_copia)\n",
    "        for linha in leitor:\n",
    "            escritor.writerow(linha)"
   ]
  }
 ],
 "metadata": {
  "kernelspec": {
   "display_name": "Python 3 (ipykernel)",
   "language": "python",
   "name": "python3"
  },
  "language_info": {
   "codemirror_mode": {
    "name": "ipython",
    "version": 3
   },
   "file_extension": ".py",
   "mimetype": "text/x-python",
   "name": "python",
   "nbconvert_exporter": "python",
   "pygments_lexer": "ipython3",
   "version": "3.10.7"
  }
 },
 "nbformat": 4,
 "nbformat_minor": 5
}
