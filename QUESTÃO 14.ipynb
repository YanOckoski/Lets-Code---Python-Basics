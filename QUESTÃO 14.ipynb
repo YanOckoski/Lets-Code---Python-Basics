{
 "cells": [
  {
   "cell_type": "code",
   "execution_count": null,
   "id": "bb597d3d",
   "metadata": {},
   "outputs": [],
   "source": [
    "import requests as r \n",
    "\n",
    "url = 'https://api.covid19api.com/country/brazil'\n",
    "resp = r.get(url)\n",
    "raw_data = resp.json()\n",
    "\n",
    "final_data = []\n",
    "for obs in raw_data:\n",
    "    final_data.append([obs['Confirmed'], obs['Deaths'], obs['Recovered'], obs['Active'], obs['Date']])\n",
    "\n",
    "for i in(range(1, len(final_data))):\n",
    "    if final_data[i][0] == 1:\n",
    "        print(final_data[i][4])\n",
    "        break\n",
    "    else:\n",
    "        pass"
   ]
  }
 ],
 "metadata": {
  "kernelspec": {
   "display_name": "Python 3 (ipykernel)",
   "language": "python",
   "name": "python3"
  },
  "language_info": {
   "codemirror_mode": {
    "name": "ipython",
    "version": 3
   },
   "file_extension": ".py",
   "mimetype": "text/x-python",
   "name": "python",
   "nbconvert_exporter": "python",
   "pygments_lexer": "ipython3",
   "version": "3.10.7"
  }
 },
 "nbformat": 4,
 "nbformat_minor": 5
}
