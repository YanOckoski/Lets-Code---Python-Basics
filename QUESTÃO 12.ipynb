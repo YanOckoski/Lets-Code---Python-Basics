{
 "cells": [
  {
   "cell_type": "code",
   "execution_count": null,
   "id": "2113801d",
   "metadata": {},
   "outputs": [],
   "source": [
    "with open('arquivos/alunos.csv', 'r', encoding='utf-8') as arquivo_csv:\n",
    "    leitor = csv.reader(arquivo_csv)\n",
    "    header_media = next(leitor) \n",
    "    with open('arquivos/alunos_media.csv', 'w', encoding='utf-8', newline='') as arquivo_copia:\n",
    "        escritor = csv.writer(arquivo_copia)\n",
    "        header_media.append('Media')\n",
    "        escritor.writerow(header_media)\n",
    "        for linha in leitor:\n",
    "            for valor in range(3, 7):\n",
    "                linha[valor] = float(linha[valor])\n",
    "            linha.append(sum(linha[3:7])/len(linha[3:7]))\n",
    "            escritor.writerow(linha)"
   ]
  }
 ],
 "metadata": {
  "kernelspec": {
   "display_name": "Python 3 (ipykernel)",
   "language": "python",
   "name": "python3"
  },
  "language_info": {
   "codemirror_mode": {
    "name": "ipython",
    "version": 3
   },
   "file_extension": ".py",
   "mimetype": "text/x-python",
   "name": "python",
   "nbconvert_exporter": "python",
   "pygments_lexer": "ipython3",
   "version": "3.10.7"
  }
 },
 "nbformat": 4,
 "nbformat_minor": 5
}
