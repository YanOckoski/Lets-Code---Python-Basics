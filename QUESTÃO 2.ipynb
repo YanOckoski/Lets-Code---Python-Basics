{
 "cells": [
  {
   "cell_type": "code",
   "execution_count": 1,
   "id": "1633d062",
   "metadata": {},
   "outputs": [
    {
     "name": "stdout",
     "output_type": "stream",
     "text": [
      "Digite uma idade entre 0 e 150 anos: 66\n",
      "Digite um valor de salário maior que 0: 44444\n",
      "Digite um sexo com um dos valores a seguir: M, F, Outros: m\n"
     ]
    }
   ],
   "source": [
    "idade = input('Digite uma idade entre 0 e 150 anos: ')\n",
    "while int(idade) <= 0 or int(idade) >= 150:\n",
    "    idade = input('Valor inválido. Digite uma idade entre 0 e 150 anos: ')\n",
    "    \n",
    "salario = input('Digite um valor de salário maior que 0: ')\n",
    "while float(salario) <=0:\n",
    "    salario = input('Valor inválido. Digite um salário maior que 0: ')\n",
    "\n",
    "sexos = ['M', 'F', 'OUTROS']\n",
    "sexo = input('Digite um sexo com um dos valores a seguir: M, F, Outros: ')\n",
    "while sexo.upper() not in sexos:\n",
    "    sexo = input('Valor inválido. Digite um sexo válido: M, F, Outros: ')"
   ]
  },
  {
   "cell_type": "code",
   "execution_count": null,
   "id": "0806debf",
   "metadata": {},
   "outputs": [],
   "source": []
  }
 ],
 "metadata": {
  "kernelspec": {
   "display_name": "Python 3 (ipykernel)",
   "language": "python",
   "name": "python3"
  },
  "language_info": {
   "codemirror_mode": {
    "name": "ipython",
    "version": 3
   },
   "file_extension": ".py",
   "mimetype": "text/x-python",
   "name": "python",
   "nbconvert_exporter": "python",
   "pygments_lexer": "ipython3",
   "version": "3.10.7"
  }
 },
 "nbformat": 4,
 "nbformat_minor": 5
}
