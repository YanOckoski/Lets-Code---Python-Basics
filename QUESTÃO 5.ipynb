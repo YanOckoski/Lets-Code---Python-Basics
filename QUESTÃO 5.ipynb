{
 "cells": [
  {
   "cell_type": "code",
   "execution_count": 1,
   "id": "3ad7010e",
   "metadata": {},
   "outputs": [
    {
     "name": "stdout",
     "output_type": "stream",
     "text": [
      "A lista contem 6 valores pares.\n"
     ]
    }
   ],
   "source": [
    "lista = [1,2,3,4,5,6,7,8,9,10,12]\n",
    "contagem = 0\n",
    "\n",
    "for valor in lista:\n",
    "    if valor % 2 == 0:\n",
    "        contagem += 1\n",
    "print(f'A lista contem {contagem} valores pares.')"
   ]
  },
  {
   "cell_type": "code",
   "execution_count": null,
   "id": "f3222107",
   "metadata": {},
   "outputs": [],
   "source": []
  }
 ],
 "metadata": {
  "kernelspec": {
   "display_name": "Python 3 (ipykernel)",
   "language": "python",
   "name": "python3"
  },
  "language_info": {
   "codemirror_mode": {
    "name": "ipython",
    "version": 3
   },
   "file_extension": ".py",
   "mimetype": "text/x-python",
   "name": "python",
   "nbconvert_exporter": "python",
   "pygments_lexer": "ipython3",
   "version": "3.10.7"
  }
 },
 "nbformat": 4,
 "nbformat_minor": 5
}
