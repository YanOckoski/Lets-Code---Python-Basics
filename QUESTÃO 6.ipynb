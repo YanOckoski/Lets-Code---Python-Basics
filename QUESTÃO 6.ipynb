{
 "cells": [
  {
   "cell_type": "code",
   "execution_count": null,
   "id": "54ac286b",
   "metadata": {},
   "outputs": [
    {
     "name": "stdout",
     "output_type": "stream",
     "text": [
      "Olá, iremos criar uma lista aleatória de números, para isso preciso de algumas informações\n"
     ]
    }
   ],
   "source": [
    "import random\n",
    "\n",
    "contagem = 0\n",
    "print('Olá, iremos criar uma lista aleatória de números, para isso preciso de algumas informações')\n",
    "\n",
    "inicial = int(input('Digite o primeiro número do intervalo: '))\n",
    "final = int(input('Digite o ultimo numero do intervalo: '))\n",
    "quantidade = int(input('Digite a quantidade de números aleatórios que serão gerados: '))\n",
    "\n",
    "lista = [random.randint(inicial, final) for x in range(quantidade)]\n",
    "\n",
    "for valor in lista:\n",
    "    if valor == 0:\n",
    "        pass\n",
    "    else:\n",
    "        if valor % 2 == 0:\n",
    "            contagem += 1\n",
    "\n",
    "print(f'A lista gerada foi {sorted(lista)}')\n",
    "print(f'A lista contem {contagem} valores pares.')"
   ]
  },
  {
   "cell_type": "code",
   "execution_count": null,
   "id": "477001b2",
   "metadata": {},
   "outputs": [],
   "source": []
  }
 ],
 "metadata": {
  "kernelspec": {
   "display_name": "Python 3 (ipykernel)",
   "language": "python",
   "name": "python3"
  },
  "language_info": {
   "codemirror_mode": {
    "name": "ipython",
    "version": 3
   },
   "file_extension": ".py",
   "mimetype": "text/x-python",
   "name": "python",
   "nbconvert_exporter": "python",
   "pygments_lexer": "ipython3",
   "version": "3.10.7"
  }
 },
 "nbformat": 4,
 "nbformat_minor": 5
}
