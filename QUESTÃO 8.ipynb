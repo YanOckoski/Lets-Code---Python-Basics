{
 "cells": [
  {
   "cell_type": "code",
   "execution_count": 2,
   "id": "5165bb04",
   "metadata": {},
   "outputs": [
    {
     "data": {
      "text/plain": [
       "[4, 9, 4]"
      ]
     },
     "execution_count": 2,
     "metadata": {},
     "output_type": "execute_result"
    }
   ],
   "source": [
    "def soma_lista(lista1, lista2):\n",
    "    nova_lista = []\n",
    "    \n",
    "    for i in range(len(lista1)):\n",
    "        nova_lista.append(lista1[i] + lista2[i])\n",
    "    \n",
    "    return nova_lista\n",
    "\n",
    "lista1 = [1,4,3]\n",
    "lista2 = [3,5,1]\n",
    "\n",
    "soma_lista(lista1, lista2)"
   ]
  },
  {
   "cell_type": "code",
   "execution_count": null,
   "id": "9a3a278b",
   "metadata": {},
   "outputs": [],
   "source": []
  }
 ],
 "metadata": {
  "kernelspec": {
   "display_name": "Python 3 (ipykernel)",
   "language": "python",
   "name": "python3"
  },
  "language_info": {
   "codemirror_mode": {
    "name": "ipython",
    "version": 3
   },
   "file_extension": ".py",
   "mimetype": "text/x-python",
   "name": "python",
   "nbconvert_exporter": "python",
   "pygments_lexer": "ipython3",
   "version": "3.10.7"
  }
 },
 "nbformat": 4,
 "nbformat_minor": 5
}
